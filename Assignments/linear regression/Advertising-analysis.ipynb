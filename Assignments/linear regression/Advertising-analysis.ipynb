{
 "cells": [
  {
   "cell_type": "markdown",
   "metadata": {},
   "source": [
    "In this document, I analyze the 'Advertising' dataset, using linear regression."
   ]
  },
  {
   "cell_type": "markdown",
   "metadata": {},
   "source": [
    "### Import Libraries"
   ]
  },
  {
   "cell_type": "code",
   "execution_count": 1,
   "metadata": {},
   "outputs": [],
   "source": [
    "import numpy as np\n",
    "import pandas as pd\n",
    "import matplotlib.pyplot as plt"
   ]
  },
  {
   "cell_type": "markdown",
   "metadata": {},
   "source": [
    "### Read Advertising dataset"
   ]
  },
  {
   "cell_type": "code",
   "execution_count": 3,
   "metadata": {},
   "outputs": [],
   "source": [
    "# Read the results file and construct X, y\n",
    "df= pd.read_csv('Advertising.csv')\n",
    "X_n = df['Newspaper'].values\n",
    "X = df[['TV', 'Radio', 'Newspaper']].values\n",
    "y = df['Sales'].values"
   ]
  },
  {
   "cell_type": "markdown",
   "metadata": {},
   "source": [
    "### Linear regression algorithm"
   ]
  },
  {
   "cell_type": "code",
   "execution_count": 3,
   "metadata": {},
   "outputs": [],
   "source": [
    "# gradient of sum of square errors:\n",
    "def gradient (X, y, beta):\n",
    "    return -2*X.T.dot(y - X.dot(beta))"
   ]
  },
  {
   "cell_type": "code",
   "execution_count": 4,
   "metadata": {},
   "outputs": [],
   "source": [
    "# Calculate the sum of square errors:\n",
    "def sum_square_errors (X, y, beta):\n",
    "    n, p = X.shape\n",
    "    cost = np.sum(np.square(X.dot(beta)-y))\n",
    "    return cost"
   ]
  },
  {
   "cell_type": "code",
   "execution_count": 5,
   "metadata": {},
   "outputs": [],
   "source": [
    "# X_n has size n*p and beta has size (p+1)*1\n",
    "n, p = X_n.shape\n",
    "X_n_a = np.ones((n,p+1))\n",
    "X_n_a[:,1:] = X_n"
   ]
  },
  {
   "cell_type": "code",
   "execution_count": 6,
   "metadata": {},
   "outputs": [],
   "source": [
    "# Initialize beta\n",
    "beta = np.random.uniform (low=-1, high=1, size=(p+1,1))\n",
    "\n",
    "# After some  experiment with different values for max_iter and learning_rate, the below combination proved to be the best:\n",
    "max_iter = 100000\n",
    "learning_rate = 1e-6\n",
    "\n",
    "Cost, Iter = [], []\n",
    "\n",
    "# Iterate and update beta by using the gradient of the SSE\n",
    "for i in range (max_iter):\n",
    "    # Calculate the gradient\n",
    "    dbeta = gradient (X_n_a, y, beta)\n",
    "    # Update beta\n",
    "    beta = beta-learning_rate * dbeta\n",
    "    # Calculate the value of SSE\n",
    "    cost = sum_square_errors (X_n_a, y, beta)\n",
    "    # Save cost of an iteration every 20-th iteration\n",
    "    if i % 200 == 0:\n",
    "        Cost.append (cost)\n",
    "        Iter.append (i+1)"
   ]
  },
  {
   "cell_type": "code",
   "execution_count": 7,
   "metadata": {},
   "outputs": [
    {
     "data": {
      "text/plain": [
       "<matplotlib.axes._subplots.AxesSubplot at 0x19fad2de548>"
      ]
     },
     "execution_count": 7,
     "metadata": {},
     "output_type": "execute_result"
    },
    {
     "data": {
      "image/png": "[encoded data removed]",
      "text/plain": [
       "<Figure size 432x288 with 1 Axes>"
      ]
     },
     "metadata": {
      "needs_background": "light"
     },
     "output_type": "display_data"
    }
   ],
   "source": [
    "pd.Series (Cost, index = Iter).plot(kind = 'line', ylim = (5134.8,5134.81))"
   ]
  },
  {
   "cell_type": "code",
   "execution_count": 8,
   "metadata": {},
   "outputs": [
    {
     "data": {
      "text/plain": [
       "array([[12.35138813],\n",
       "       [ 0.05469351]])"
      ]
     },
     "execution_count": 8,
     "metadata": {},
     "output_type": "execute_result"
    }
   ],
   "source": [
    "#The estimation of beta using gradient descent:\n",
    "beta"
   ]
  },
  {
   "cell_type": "code",
   "execution_count": 9,
   "metadata": {},
   "outputs": [
    {
     "data": {
      "text/plain": [
       "array([[12.35140707],\n",
       "       [ 0.0546931 ]])"
      ]
     },
     "execution_count": 9,
     "metadata": {},
     "output_type": "execute_result"
    }
   ],
   "source": [
    "#exact solution of beta:\n",
    "np.linalg.inv(X_n_a.T@(X_n_a))@(X_n_a.T@y)"
   ]
  },
  {
   "cell_type": "code",
   "execution_count": 10,
   "metadata": {},
   "outputs": [
    {
     "data": {
      "text/plain": [
       "array([[12.35138813],\n",
       "       [18.91460936]])"
      ]
     },
     "execution_count": 10,
     "metadata": {},
     "output_type": "execute_result"
    }
   ],
   "source": [
    "X_new = np.array([[0],[120]])\n",
    "X_new_b = np.c_[np.ones((2,1)),X_new]\n",
    "y_predict = X_new_b.dot(beta)h\n",
    "y_predict"
   ]
  },
  {
   "cell_type": "code",
   "execution_count": 11,
   "metadata": {},
   "outputs": [
    {
     "data": {
      "text/plain": [
       "[<matplotlib.lines.Line2D at 0x19fadaf5f48>]"
      ]
     },
     "execution_count": 11,
     "metadata": {},
     "output_type": "execute_result"
    },
    {
     "data": {
      "image/png": "[encoded data removed]",
      "text/plain": [
       "<Figure size 432x288 with 1 Axes>"
      ]
     },
     "metadata": {
      "needs_background": "light"
     },
     "output_type": "display_data"
    }
   ],
   "source": [
    "plt.plot(X_n,y,'b.')\n",
    "plt.plot(X_new,y_predict,'r-')"
   ]
  },
  {
   "cell_type": "code",
   "execution_count": 12,
   "metadata": {},
   "outputs": [],
   "source": [
    "# X has size n*p and beta has size (p+1)*1\n",
    "n, p = X.shape\n",
    "X_a = np.ones((n,p+1))\n",
    "X_a[:,1:] = X"
   ]
  },
  {
   "cell_type": "code",
   "execution_count": 13,
   "metadata": {},
   "outputs": [],
   "source": [
    "# Initialize beta\n",
    "beta = np.random.uniform (low=-1, high=1, size=(p+1,1))\n",
    "\n",
    "# After some  experiment with different values for max_iter and learning_rate, the below combination proved to be the best:\n",
    "max_iter = 2000000\n",
    "learning_rate = 1e-7\n",
    "\n",
    "Cost, Iter = [], []\n",
    "\n",
    "# Iterate and update beta by using the gradient of the SSE\n",
    "for i in range (max_iter):\n",
    "    # Calculate the gradient\n",
    "    dbeta = gradient (X_a, y, beta)\n",
    "    # Update beta\n",
    "    beta = beta-learning_rate * dbeta\n",
    "    # Calculate the value of SSE\n",
    "    cost = sum_square_errors (X_a, y, beta)\n",
    "    # Save cost of an iteration every 20-th iteration\n",
    "    if i % 2000 == 0:\n",
    "        Cost.append (cost)\n",
    "        Iter.append (i+1)"
   ]
  },
  {
   "cell_type": "code",
   "execution_count": 16,
   "metadata": {},
   "outputs": [
    {
     "data": {
      "text/plain": [
       "<matplotlib.axes._subplots.AxesSubplot at 0x19fadbf0648>"
      ]
     },
     "execution_count": 16,
     "metadata": {},
     "output_type": "execute_result"
    },
    {
     "data": {
      "image/png": "[encoded data removed]",
      "text/plain": [
       "<Figure size 432x288 with 1 Axes>"
      ]
     },
     "metadata": {
      "needs_background": "light"
     },
     "output_type": "display_data"
    }
   ],
   "source": [
    "pd.Series (Cost, index = Iter).plot(kind = 'line', ylim = (556.75,557))"
   ]
  },
  {
   "cell_type": "code",
   "execution_count": 17,
   "metadata": {},
   "outputs": [
    {
     "data": {
      "text/plain": [
       "array([[ 2.93885687e+00],\n",
       "       [ 4.57647342e-02],\n",
       "       [ 1.88530390e-01],\n",
       "       [-1.03729563e-03]])"
      ]
     },
     "execution_count": 17,
     "metadata": {},
     "output_type": "execute_result"
    }
   ],
   "source": [
    "#The estimation of beta using gradient descent:\n",
    "beta"
   ]
  },
  {
   "cell_type": "code",
   "execution_count": 18,
   "metadata": {},
   "outputs": [
    {
     "data": {
      "text/plain": [
       "array([[ 2.93888937e+00],\n",
       "       [ 4.57646455e-02],\n",
       "       [ 1.88530017e-01],\n",
       "       [-1.03749304e-03]])"
      ]
     },
     "execution_count": 18,
     "metadata": {},
     "output_type": "execute_result"
    }
   ],
   "source": [
    "#exact solution of beta:\n",
    "np.linalg.inv(X_a.T@(X_a))@(X_a.T@y)"
   ]
  }
 ],
 "metadata": {
  "kernelspec": {
   "display_name": "Python 3",
   "language": "python",
   "name": "python3"
  },
  "language_info": {
   "codemirror_mode": {
    "name": "ipython",
    "version": 3
   },
   "file_extension": ".py",
   "mimetype": "text/x-python",
   "name": "python",
   "nbconvert_exporter": "python",
   "pygments_lexer": "ipython3",
   "version": "3.8.5"
  }
 },
 "nbformat": 4,
 "nbformat_minor": 2
}
