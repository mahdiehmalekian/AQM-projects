{
 "cells": [
  {
   "cell_type": "code",
   "execution_count": 1,
   "metadata": {},
   "outputs": [],
   "source": [
    "#Import Libraries\n",
    "import numpy as np\n",
    "import pandas as pd\n",
    "import matplotlib.pyplot as plt\n",
    "from sklearn.preprocessing import StandardScaler\n",
    "from sklearn.model_selection import train_test_split\n",
    "from sklearn.linear_model import LogisticRegression\n",
    "from sklearn.metrics import confusion_matrix\n",
    "from sklearn.model_selection import cross_val_score"
   ]
  },
  {
   "cell_type": "code",
   "execution_count": 2,
   "metadata": {},
   "outputs": [
    {
     "data": {
      "text/html": [
       "<div>\n",
       "<style scoped>\n",
       "    .dataframe tbody tr th:only-of-type {\n",
       "        vertical-align: middle;\n",
       "    }\n",
       "\n",
       "    .dataframe tbody tr th {\n",
       "        vertical-align: top;\n",
       "    }\n",
       "\n",
       "    .dataframe thead th {\n",
       "        text-align: right;\n",
       "    }\n",
       "</style>\n",
       "<table border=\"1\" class=\"dataframe\">\n",
       "  <thead>\n",
       "    <tr style=\"text-align: right;\">\n",
       "      <th></th>\n",
       "      <th>Serial</th>\n",
       "      <th>Cl.thickness</th>\n",
       "      <th>Cell.size</th>\n",
       "      <th>Cell.shape</th>\n",
       "      <th>Marg.adhesion</th>\n",
       "      <th>Epith.c.size</th>\n",
       "      <th>Bare.nuclei</th>\n",
       "      <th>Bl.cromatin</th>\n",
       "      <th>Normal.nucleoli</th>\n",
       "      <th>Mitoses</th>\n",
       "      <th>Class</th>\n",
       "    </tr>\n",
       "  </thead>\n",
       "  <tbody>\n",
       "    <tr>\n",
       "      <td>0</td>\n",
       "      <td>1000025</td>\n",
       "      <td>5</td>\n",
       "      <td>1</td>\n",
       "      <td>1</td>\n",
       "      <td>1</td>\n",
       "      <td>2</td>\n",
       "      <td>1.0</td>\n",
       "      <td>3</td>\n",
       "      <td>1</td>\n",
       "      <td>1</td>\n",
       "      <td>0</td>\n",
       "    </tr>\n",
       "    <tr>\n",
       "      <td>1</td>\n",
       "      <td>1002945</td>\n",
       "      <td>5</td>\n",
       "      <td>4</td>\n",
       "      <td>4</td>\n",
       "      <td>5</td>\n",
       "      <td>7</td>\n",
       "      <td>10.0</td>\n",
       "      <td>3</td>\n",
       "      <td>2</td>\n",
       "      <td>1</td>\n",
       "      <td>0</td>\n",
       "    </tr>\n",
       "    <tr>\n",
       "      <td>2</td>\n",
       "      <td>1015425</td>\n",
       "      <td>3</td>\n",
       "      <td>1</td>\n",
       "      <td>1</td>\n",
       "      <td>1</td>\n",
       "      <td>2</td>\n",
       "      <td>2.0</td>\n",
       "      <td>3</td>\n",
       "      <td>1</td>\n",
       "      <td>1</td>\n",
       "      <td>0</td>\n",
       "    </tr>\n",
       "    <tr>\n",
       "      <td>3</td>\n",
       "      <td>1016277</td>\n",
       "      <td>6</td>\n",
       "      <td>8</td>\n",
       "      <td>8</td>\n",
       "      <td>1</td>\n",
       "      <td>3</td>\n",
       "      <td>4.0</td>\n",
       "      <td>3</td>\n",
       "      <td>7</td>\n",
       "      <td>1</td>\n",
       "      <td>0</td>\n",
       "    </tr>\n",
       "    <tr>\n",
       "      <td>4</td>\n",
       "      <td>1017023</td>\n",
       "      <td>4</td>\n",
       "      <td>1</td>\n",
       "      <td>1</td>\n",
       "      <td>3</td>\n",
       "      <td>2</td>\n",
       "      <td>1.0</td>\n",
       "      <td>3</td>\n",
       "      <td>1</td>\n",
       "      <td>1</td>\n",
       "      <td>0</td>\n",
       "    </tr>\n",
       "  </tbody>\n",
       "</table>\n",
       "</div>"
      ],
      "text/plain": [
       "    Serial  Cl.thickness  Cell.size  Cell.shape  Marg.adhesion  Epith.c.size  \\\n",
       "0  1000025             5          1           1              1             2   \n",
       "1  1002945             5          4           4              5             7   \n",
       "2  1015425             3          1           1              1             2   \n",
       "3  1016277             6          8           8              1             3   \n",
       "4  1017023             4          1           1              3             2   \n",
       "\n",
       "   Bare.nuclei  Bl.cromatin  Normal.nucleoli  Mitoses  Class  \n",
       "0          1.0            3                1        1      0  \n",
       "1         10.0            3                2        1      0  \n",
       "2          2.0            3                1        1      0  \n",
       "3          4.0            3                7        1      0  \n",
       "4          1.0            3                1        1      0  "
      ]
     },
     "execution_count": 2,
     "metadata": {},
     "output_type": "execute_result"
    }
   ],
   "source": [
    "#Import Dataset\n",
    "dataset = pd.read_csv('\\BreastCancer.csv')\n",
    "\n",
    "# Shuffle the dataset so that the future splitting into k-fold is random.\n",
    "#dataset = dataset.sample (frac = 1)\n",
    "\n",
    "dataset.head()"
   ]
  },
  {
   "cell_type": "code",
   "execution_count": 3,
   "metadata": {},
   "outputs": [],
   "source": [
    "dataset = dataset.dropna()\n",
    "X = dataset.iloc[:,[i for i in range (1, 10)]].values\n",
    "y = dataset.iloc[:,10].values"
   ]
  },
  {
   "cell_type": "code",
   "execution_count": 4,
   "metadata": {},
   "outputs": [],
   "source": [
    "def LOOCV (x, y):\n",
    "    \"\"\"Leave one out cross validation. Uses logistic regression for classifying two classes.\"\"\"\n",
    "    \n",
    "    #Feature Scaling\n",
    "    sc_X=StandardScaler()\n",
    "    x = sc_X.fit_transform(x)\n",
    "    \n",
    "    classifier = LogisticRegression(solver='lbfgs')\n",
    "    mistake = 0\n",
    "    \n",
    "    for i in range(x.shape[0]):\n",
    "        x_train = np.delete(x, i, axis = 0)\n",
    "        y_train = np.delete(y, i, axis = 0)\n",
    "        classifier.fit(x_train, y_train)\n",
    "        \n",
    "        x_test = x[i]\n",
    "        # To reshape x_test into a 2-D array\n",
    "        x_test = x_test.reshape(1, -1)\n",
    "        \n",
    "        y_pred = classifier.predict(x_test)\n",
    "        \n",
    "        if y_pred != y[i]:\n",
    "            mistake += 1\n",
    "            \n",
    "    print ('mean accuracy for the test data is %0.4f' %(100 - 100*mistake / x.shape[0]), '%')"
   ]
  },
  {
   "cell_type": "code",
   "execution_count": 5,
   "metadata": {},
   "outputs": [
    {
     "name": "stdout",
     "output_type": "stream",
     "text": [
      "mean accuracy for the test data is 96.6325 %\n"
     ]
    }
   ],
   "source": [
    "LOOCV (X, y)"
   ]
  },
  {
   "cell_type": "code",
   "execution_count": 6,
   "metadata": {},
   "outputs": [],
   "source": [
    "def kFCV (x, y, k):\n",
    "    \"\"\"k-Fold cross validation. Uses logistic regression for classifying two classes.\"\"\"\n",
    "    \n",
    "    #Feature Scaling\n",
    "    sc_X=StandardScaler()\n",
    "    x = sc_X.fit_transform(x)\n",
    "    \n",
    "    classifier = LogisticRegression(solver='lbfgs')\n",
    "    mistake = 0\n",
    "    \n",
    "    n = x.shape[0]\n",
    "    d, r = n//k , n % k\n",
    "    for i in range(0, n-r, d):\n",
    "        fold_i = [j for j in range (i, i+d)]\n",
    "        if i//d < r:    \n",
    "            fold_i.append (n-1+(-i// d))\n",
    "\n",
    "        x_train = np.delete(x, fold_i, axis = 0)\n",
    "        y_train = np.delete (y, fold_i, axis = 0)\n",
    "        classifier.fit(x_train, y_train)\n",
    "        \n",
    "        x_test = x[fold_i]\n",
    "        y_pred = classifier.predict (x_test)\n",
    "        for j in range (len (fold_i)):\n",
    "            if y_pred[j] != y[fold_i][j]:\n",
    "                mistake += 1\n",
    "            \n",
    "    print ('mean accuracy for the test data is %0.4f' %(100 - 100 *mistake / x.shape[0]), '%')    "
   ]
  },
  {
   "cell_type": "code",
   "execution_count": 7,
   "metadata": {},
   "outputs": [
    {
     "name": "stdout",
     "output_type": "stream",
     "text": [
      "mean accuracy for the test data is 96.4861 %\n",
      "None\n",
      "mean accuracy for the test data is 96.3397 %\n",
      "None\n",
      "mean accuracy for the test data is 96.3397 %\n",
      "None\n",
      "mean accuracy for the test data is 96.6325 %\n",
      "None\n",
      "mean accuracy for the test data is 96.3397 %\n",
      "None\n",
      "mean accuracy for the test data is 96.7789 %\n",
      "None\n",
      "mean accuracy for the test data is 96.6325 %\n",
      "None\n",
      "mean accuracy for the test data is 96.9253 %\n",
      "None\n",
      "mean accuracy for the test data is 96.7789 %\n",
      "None\n"
     ]
    }
   ],
   "source": [
    "for i in range (2, 11):\n",
    "    print (kFCV (X, y, i))"
   ]
  }
 ],
 "metadata": {
  "kernelspec": {
   "display_name": "Python 3",
   "language": "python",
   "name": "python3"
  },
  "language_info": {
   "codemirror_mode": {
    "name": "ipython",
    "version": 3
   },
   "file_extension": ".py",
   "mimetype": "text/x-python",
   "name": "python",
   "nbconvert_exporter": "python",
   "pygments_lexer": "ipython3",
   "version": "3.8.5"
  }
 },
 "nbformat": 4,
 "nbformat_minor": 2
}
