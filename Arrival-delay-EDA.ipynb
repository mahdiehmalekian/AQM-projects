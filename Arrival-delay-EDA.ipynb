{
 "cells": [
  {
   "cell_type": "code",
   "execution_count": 1,
   "metadata": {},
   "outputs": [],
   "source": [
    "#Import Libraries\n",
    "import numpy as np\n",
    "import pandas as pd\n",
    "\n",
    "from sklearn.neighbors import NearestNeighbors\n",
    "from sklearn.cluster import KMeans\n",
    "from sklearn.cluster import DBSCAN\n",
    "from sklearn.cluster import OPTICS\n",
    "from sklearn import metrics\n",
    "from sklearn.metrics import silhouette_samples, silhouette_score\n",
    "from sklearn import preprocessing\n",
    "from sklearn.preprocessing import StandardScaler\n",
    "from sklearn import decomposition\n",
    "\n",
    "import matplotlib.pyplot as plt\n",
    "import matplotlib.cm as cm"
   ]
  },
  {
   "cell_type": "code",
   "execution_count": 2,
   "metadata": {},
   "outputs": [],
   "source": [
    "#Import dataset\n",
    "DE = pd.read_csv('cleaned_delay_events.csv')"
   ]
  },
  {
   "cell_type": "code",
   "execution_count": 3,
   "metadata": {},
   "outputs": [],
   "source": [
    "def get_sample(dataset, frac=0.1):\n",
    "    \"\"\"Chooses a fraction of dataset randomly and performs the steps necessary to get to applying clustering.\"\"\"\n",
    "    if frac < 1.0: df = DE.sample(frac=frac)\n",
    "    else: df = DE\n",
    "    \n",
    "    X_s = preprocessing.scale(df)\n",
    "    \n",
    "    # Dimensionality Reduction:\n",
    "    pca = decomposition.PCA(n_components=.85, svd_solver='full')\n",
    "    model = pca.fit(X_s)\n",
    "    \n",
    "    return (model.transform(X_s), df, X_s, model)"
   ]
  },
  {
   "cell_type": "code",
   "execution_count": 4,
   "metadata": {},
   "outputs": [],
   "source": [
    "sample = get_sample(DE, 0.02)\n",
    "X_r, cmp = sample"
   ]
  },
  {
   "cell_type": "markdown",
   "metadata": {},
   "source": [
    "# Figuring out the \"important\" features in PCA"
   ]
  },
  {
   "cell_type": "markdown",
   "metadata": {},
   "source": [
    "Is it fair to say important means coefficient in a PC >= some threshold ?"
   ]
  },
  {
   "cell_type": "code",
   "execution_count": 9,
   "metadata": {},
   "outputs": [
    {
     "data": {
      "text/plain": [
       "(1568, 1)"
      ]
     },
     "execution_count": 9,
     "metadata": {},
     "output_type": "execute_result"
    }
   ],
   "source": [
    "all_coef = np.abs(cmp).reshape(-1, 1)\n",
    "all_coef.shape"
   ]
  },
  {
   "cell_type": "markdown",
   "metadata": {},
   "source": [
    "Can we figure out the threshold by sticking with \"significantly less likely\" than values below it?"
   ]
  },
  {
   "cell_type": "code",
   "execution_count": 10,
   "metadata": {},
   "outputs": [
    {
     "data": {
      "text/plain": [
       "(array([491., 231., 180., 121., 108.,  85.,  52.,  50.,  24.,  30.,  22.,\n",
       "         30.,  31.,  14.,  18.,  15.,  18.,   6.,   6.,   3.,   2.,   7.,\n",
       "          2.,   8.,   1.,   1.,   2.,   3.,   1.,   1.,   3.,   0.,   0.,\n",
       "          1.,   0.,   0.,   1.,   0.,   0.,   0.]),\n",
       " array([0.  , 0.02, 0.04, 0.06, 0.08, 0.1 , 0.12, 0.14, 0.16, 0.18, 0.2 ,\n",
       "        0.22, 0.24, 0.26, 0.28, 0.3 , 0.32, 0.34, 0.36, 0.38, 0.4 , 0.42,\n",
       "        0.44, 0.46, 0.48, 0.5 , 0.52, 0.54, 0.56, 0.58, 0.6 , 0.62, 0.64,\n",
       "        0.66, 0.68, 0.7 , 0.72, 0.74, 0.76, 0.78, 0.8 ]),\n",
       " <a list of 40 Patch objects>)"
      ]
     },
     "execution_count": 10,
     "metadata": {},
     "output_type": "execute_result"
    },
    {
     "data": {
      "image/png": "[encoded data removed]",
      "text/plain": [
       "<Figure size 432x288 with 1 Axes>"
      ]
     },
     "metadata": {
      "needs_background": "light"
     },
     "output_type": "display_data"
    }
   ],
   "source": [
    "# Histogram of absolute value of coefficients in cmp\n",
    "plt.hist(all_coef, bins=40, range=(0.0, 0.8))"
   ]
  },
  {
   "cell_type": "code",
   "execution_count": 11,
   "metadata": {},
   "outputs": [
    {
     "data": {
      "text/plain": [
       "(array([ 0.,  0.,  0.,  0.,  0., 52., 45., 33., 24.,  9.,  9., 10.,  2.,\n",
       "         5.,  2.,  3.,  1.,  0.,  1.,  0.]),\n",
       " array([0.  , 0.04, 0.08, 0.12, 0.16, 0.2 , 0.24, 0.28, 0.32, 0.36, 0.4 ,\n",
       "        0.44, 0.48, 0.52, 0.56, 0.6 , 0.64, 0.68, 0.72, 0.76, 0.8 ]),\n",
       " <a list of 20 Patch objects>)"
      ]
     },
     "execution_count": 11,
     "metadata": {},
     "output_type": "execute_result"
    },
    {
     "data": {
      "image/png": "[encoded data removed]",
      "text/plain": [
       "<Figure size 432x288 with 1 Axes>"
      ]
     },
     "metadata": {
      "needs_background": "light"
     },
     "output_type": "display_data"
    }
   ],
   "source": [
    "# Histogram of absolute value of coefficients bigger than 0.12 in cmp\n",
    "plt.hist(all_coef[all_coef >= 0.12], bins=20, range=(0.0, 0.8))\n",
    "# Histogram of absolute value of coefficients bigger than 0.16 in cmp\n",
    "plt.hist(all_coef[all_coef >= 0.16], bins=20, range=(0.0, 0.8))\n",
    "# Histogram of absolute value of coefficients bigger than 0.2 in cmp\n",
    "plt.hist(all_coef[all_coef >= 0.2], bins=20, range=(0.0, 0.8))"
   ]
  },
  {
   "cell_type": "code",
   "execution_count": 12,
   "metadata": {},
   "outputs": [
    {
     "data": {
      "text/plain": [
       "(array([  0.,   0.,   0., 121., 108.,  85.,  52.,  50.,  24.,  30.]),\n",
       " array([0.  , 0.02, 0.04, 0.06, 0.08, 0.1 , 0.12, 0.14, 0.16, 0.18, 0.2 ]),\n",
       " <a list of 10 Patch objects>)"
      ]
     },
     "execution_count": 12,
     "metadata": {},
     "output_type": "execute_result"
    },
    {
     "data": {
      "image/png": "[encoded data removed]",
      "text/plain": [
       "<Figure size 432x288 with 1 Axes>"
      ]
     },
     "metadata": {
      "needs_background": "light"
     },
     "output_type": "display_data"
    }
   ],
   "source": [
    "# Histogram of absolute value of coefficients less than 0.2 and bigger than 0.06\n",
    "plt.hist(all_coef[(all_coef <= 0.2) & (0.06 <= all_coef)], bins=10, range=(0.0, 0.2))"
   ]
  },
  {
   "cell_type": "code",
   "execution_count": 14,
   "metadata": {},
   "outputs": [
    {
     "name": "stdout",
     "output_type": "stream",
     "text": [
      "0\n",
      "largest 0.34\n",
      "tenth largest: 0.16\n",
      "median: 0.03\n",
      "*********************\n",
      "1\n",
      "largest 0.32\n",
      "tenth largest: 0.23\n",
      "median: 0.06\n",
      "*********************\n",
      "2\n",
      "largest 0.32\n",
      "tenth largest: 0.22\n",
      "median: 0.08\n",
      "*********************\n",
      "3\n",
      "largest 0.37\n",
      "tenth largest: 0.1\n",
      "median: 0.03\n",
      "*********************\n",
      "4\n",
      "largest 0.3\n",
      "tenth largest: 0.21\n",
      "median: 0.08\n",
      "*********************\n",
      "5\n",
      "largest 0.38\n",
      "tenth largest: 0.22\n",
      "median: 0.07\n",
      "*********************\n",
      "6\n",
      "largest 0.46\n",
      "tenth largest: 0.16\n",
      "median: 0.04\n",
      "*********************\n",
      "7\n",
      "largest 0.33\n",
      "tenth largest: 0.19\n",
      "median: 0.06\n",
      "*********************\n",
      "8\n",
      "largest 0.47\n",
      "tenth largest: 0.12\n",
      "median: 0.04\n",
      "*********************\n",
      "9\n",
      "largest 0.33\n",
      "tenth largest: 0.21\n",
      "median: 0.08\n",
      "*********************\n",
      "10\n",
      "largest 0.3\n",
      "tenth largest: 0.22\n",
      "median: 0.05\n",
      "*********************\n",
      "11\n",
      "largest 0.6\n",
      "tenth largest: 0.12\n",
      "median: 0.05\n",
      "*********************\n",
      "12\n",
      "largest 0.38\n",
      "tenth largest: 0.18\n",
      "median: 0.09\n",
      "*********************\n",
      "13\n",
      "largest 0.48\n",
      "tenth largest: 0.15\n",
      "median: 0.04\n",
      "*********************\n",
      "14\n",
      "largest 0.62\n",
      "tenth largest: 0.13\n",
      "median: 0.04\n",
      "*********************\n",
      "15\n",
      "largest 0.61\n",
      "tenth largest: 0.1\n",
      "median: 0.03\n",
      "*********************\n",
      "16\n",
      "largest 0.42\n",
      "tenth largest: 0.18\n",
      "median: 0.05\n",
      "*********************\n",
      "17\n",
      "largest 0.38\n",
      "tenth largest: 0.18\n",
      "median: 0.06\n",
      "*********************\n",
      "18\n",
      "largest 0.56\n",
      "tenth largest: 0.09\n",
      "median: 0.03\n",
      "*********************\n",
      "19\n",
      "largest 0.45\n",
      "tenth largest: 0.14\n",
      "median: 0.06\n",
      "*********************\n",
      "20\n",
      "largest 0.44\n",
      "tenth largest: 0.13\n",
      "median: 0.04\n",
      "*********************\n",
      "21\n",
      "largest 0.47\n",
      "tenth largest: 0.13\n",
      "median: 0.04\n",
      "*********************\n",
      "22\n",
      "largest 0.48\n",
      "tenth largest: 0.12\n",
      "median: 0.05\n",
      "*********************\n",
      "23\n",
      "largest 0.48\n",
      "tenth largest: 0.14\n",
      "median: 0.05\n",
      "*********************\n",
      "24\n",
      "largest 0.57\n",
      "tenth largest: 0.16\n",
      "median: 0.05\n",
      "*********************\n",
      "25\n",
      "largest 0.59\n",
      "tenth largest: 0.16\n",
      "median: 0.06\n",
      "*********************\n",
      "26\n",
      "largest 0.67\n",
      "tenth largest: 0.09\n",
      "median: 0.02\n",
      "*********************\n",
      "27\n",
      "largest 0.73\n",
      "tenth largest: 0.08\n",
      "median: 0.03\n",
      "*********************\n"
     ]
    }
   ],
   "source": [
    "n_pcs = cmp.shape[0]\n",
    "for i in range(n_pcs):\n",
    "    print(i)\n",
    "    print('largest', np.round(np.abs(cmp[i]).max(), 2))\n",
    "    print('tenth largest:',np.round(np.unique(np.abs(cmp[i]))[-10], 2))\n",
    "    print('median:', np.round(np.median(np.abs(cmp[i])), 2))\n",
    "    print ('*********************')"
   ]
  },
  {
   "cell_type": "markdown",
   "metadata": {},
   "source": [
    "So, it seems like setting threshold around 0.1 doesn't make a lot of information be lost."
   ]
  },
  {
   "cell_type": "code",
   "execution_count": 15,
   "metadata": {},
   "outputs": [],
   "source": [
    "important = []\n",
    "# number of components\n",
    "n_pcs = cmp.shape[0]\n",
    "for i in range (n_pcs):\n",
    "    for j in range (cmp.shape[1]):\n",
    "        value_j = np.abs(cmp[i][j])\n",
    "        if value_j >= 0.1:\n",
    "            important.append ((i, j, np.round(np.abs(value_j), 2)))"
   ]
  },
  {
   "cell_type": "code",
   "execution_count": 16,
   "metadata": {},
   "outputs": [],
   "source": [
    "important = []\n",
    "# number of components\n",
    "n_pcs = cmp.shape[0]\n",
    "for i in range (n_pcs):\n",
    "    for j in range (cmp.shape[1]):\n",
    "        value_j = np.abs(cmp[i][j])\n",
    "        if value_j >= 0.1:\n",
    "            important.append ((i, j, np.round(np.abs(value_j), 2)))"
   ]
  },
  {
   "cell_type": "code",
   "execution_count": 17,
   "metadata": {},
   "outputs": [
    {
     "name": "stdout",
     "output_type": "stream",
     "text": [
      "{0: 7, 1: 9, 2: 6, 3: 11, 4: 9, 5: 13, 6: 8, 7: 8, 8: 6, 9: 9, 10: 13, 11: 8, 12: 8, 13: 7, 14: 8, 15: 7, 16: 8, 17: 5, 18: 8, 19: 7, 20: 5, 21: 10, 22: 11, 23: 10, 24: 2, 25: 2, 26: 9, 27: 12, 28: 7, 29: 13, 30: 9, 31: 8, 32: 11, 33: 6, 34: 9, 38: 11, 39: 13, 41: 7, 42: 9, 44: 8, 45: 8, 46: 7, 47: 10, 48: 8, 49: 7, 50: 8, 51: 10, 52: 11, 53: 8, 54: 13, 55: 10}\n",
      "51\n"
     ]
    }
   ],
   "source": [
    "freq = [x[1] for x in important]\n",
    "freq.sort()\n",
    "feature_freq = {i:freq.count(i) for i in freq}\n",
    "print(feature_freq)\n",
    "print(len(feature_freq))"
   ]
  },
  {
   "cell_type": "markdown",
   "metadata": {},
   "source": [
    "So, most features have appeared a reasonable number of times as \"important\". So, we cannot conclude anything from this line."
   ]
  },
  {
   "cell_type": "markdown",
   "metadata": {},
   "source": [
    "# K-means "
   ]
  },
  {
   "cell_type": "markdown",
   "metadata": {},
   "source": [
    "I would like to choose the number of clusters using silhouette score. However, the comutation for the entire dataset is very heavy. So I did this calculation for 10% of data a few times, and the results were consistent each time. They all suggested that best silhouette score for $k > 3$ is around $0.15$ and for larger $k$'s it is around $0.09$. So, the score is typically low, and not very differentiating. Another recurrent theme is that for $k > 10$ the score tends to drop, definitely so for $k > 15$. Below, the plot for one of these calculations is displayed:"
   ]
  },
  {
   "cell_type": "code",
   "execution_count": 5,
   "metadata": {
    "scrolled": true
   },
   "outputs": [],
   "source": [
    "score = []\n",
    "for k in range(2, 41):\n",
    "    kmeans = KMeans(n_clusters=k)\n",
    "    y_pred = kmeans.fit_predict(X_r)\n",
    "    s = silhouette_score(X_r, y_pred)\n",
    "    score.append (s)"
   ]
  },
  {
   "cell_type": "code",
   "execution_count": 7,
   "metadata": {},
   "outputs": [
    {
     "data": {
      "image/png": "[encoded data removed]",
      "text/plain": [
       "<Figure size 432x288 with 1 Axes>"
      ]
     },
     "metadata": {
      "needs_background": "light"
     },
     "output_type": "display_data"
    }
   ],
   "source": [
    "plt.plot(np.arange(2, 41), score)\n",
    "plt.xlabel('Number of clusters in KMeans')\n",
    "plt.ylabel('Silhouette score')\n",
    "plt.show()"
   ]
  },
  {
   "cell_type": "markdown",
   "metadata": {},
   "source": [
    "The score for smaller number of clusters is better. So, let's have a closer look at these numbers:"
   ]
  },
  {
   "cell_type": "markdown",
   "metadata": {},
   "source": [
    "# On all data"
   ]
  },
  {
   "cell_type": "code",
   "execution_count": null,
   "metadata": {},
   "outputs": [],
   "source": [
    "# Note: We are asking for decomposition.PCA(n_components=.85, svd_solver='full') in code\n",
    "sample = get_sample(DE, 1)\n",
    "X = sample[0]\n",
    "X.shape"
   ]
  },
  {
   "cell_type": "markdown",
   "metadata": {},
   "source": [
    "Now that I am working on all data, I will limit the silhouette score calculation to be done on 0.1 of data."
   ]
  },
  {
   "cell_type": "code",
   "execution_count": null,
   "metadata": {},
   "outputs": [],
   "source": [
    "sample_size = 50000 #For silhouette score\n",
    "kmeans_inertia, kmeans_ch_score, kmeans_db_score, kmeans_s_score = [], [], [],[]\n",
    "for k in range(2, 28):\n",
    "    \n",
    "    kmeans = KMeans(n_clusters=k)\n",
    "    y_pred = kmeans.fit_predict(X)\n",
    "    \n",
    "    kmeans_inertia.append((k,-kmeans.score(X)))\n",
    "\n",
    "    db = davies_bouldin_score(X, y_pred)\n",
    "    ch = metrics.calinski_harabasz_score(X, y_pred)\n",
    "    s = silhouette_score(X, y_pred, sample_size=sample_size)\n",
    "    kmeans_ch_score.append((k,ch))\n",
    "    kmeans_db_score.append((k, db))\n",
    "    kmeans_s_score.append((k, s))"
   ]
  },
  {
   "cell_type": "markdown",
   "metadata": {},
   "source": [
    "### From sklearn documentation:\n",
    "A  lower Davies-Bouldin index relates to a model with better separation between the clusters. This index signifies the average ‘similarity’ between clusters, where the similarity is a measure that compares the distance between clusters with the size of the clusters themselves.\n",
    "\n",
    "The CH score is higher when clusters are dense and well separated, which relates to a standard concept of a cluster."
   ]
  },
  {
   "cell_type": "code",
   "execution_count": null,
   "metadata": {},
   "outputs": [],
   "source": [
    "plt.plot([x[0] for x in kmeans_db_score], [x[1] for x in kmeans_db_score] , marker = 'o')\n",
    "plt.xlabel('Number of clusters')\n",
    "plt.ylabel('Davies-Bouldin index')\n",
    "plt.title('KMeans(n_init=10)')\n",
    "plt.grid()\n",
    "plt.savefig('DB-index-KMeans.png', dpi=150)\n",
    "plt.show()"
   ]
  },
  {
   "cell_type": "code",
   "execution_count": null,
   "metadata": {},
   "outputs": [],
   "source": [
    "plt.plot([x[0] for x in kmeans_ch_score], [x[1] for x in kmeans_ch_score] , marker = 'o')\n",
    "plt.xlabel('Number of clusters')\n",
    "plt.ylabel('Calinski-Harabasz score')\n",
    "plt.title('KMeans(n_init=10)')\n",
    "plt.grid()\n",
    "plt.savefig('CH-score-KMeans.png', dpi=150)\n",
    "plt.show()"
   ]
  },
  {
   "cell_type": "code",
   "execution_count": null,
   "metadata": {},
   "outputs": [],
   "source": [
    "plt.plot([x[0] for x in kmeans_inertia], [x[1] for x in kmeans_inertia], marker ='o')\n",
    "plt.xlabel('Number of clusters')\n",
    "plt.ylabel('Inertia')\n",
    "plt.title('KMeans(n_init=10)')\n",
    "plt.grid()\n",
    "plt.savefig('Inertia-KMeans.png', dpi=150)\n",
    "plt.show()"
   ]
  },
  {
   "cell_type": "code",
   "execution_count": null,
   "metadata": {},
   "outputs": [],
   "source": [
    "plt.plot([x[0] for x in kmeans_s_score], [x[1] for x in kmeans_s_score] , marker = 'o')\n",
    "plt.xlabel('Number of clusters')\n",
    "plt.ylabel('Silhouette score(comuted on 10% of data)')\n",
    "plt.title('KMeans(n_init=10)')\n",
    "plt.grid()\n",
    "plt.savefig('silh-index-KMeans.png', dpi=150)\n",
    "plt.show()"
   ]
  },
  {
   "cell_type": "markdown",
   "metadata": {},
   "source": [
    "Looking at the figures, we get an idea of what a 'differentiating' threshold for each score is."
   ]
  },
  {
   "cell_type": "code",
   "execution_count": null,
   "metadata": {},
   "outputs": [],
   "source": [
    "better_ch_score = [x[0] for x in kmeans_ch_score if x[1] > 31500]\n",
    "better_s_score = [x[0] for x in kmeans_s_score if x[1] >= 0.09]\n",
    "lower_db_index = [x[0] for x in kmeans_db_score if x[1] < 2.3]\n",
    "kmeans_chosen = [x for x in better_ch_score if x in lower_db_index]\n",
    "kmeans_chosen"
   ]
  },
  {
   "cell_type": "markdown",
   "metadata": {},
   "source": [
    "Now, we are going to look more closely at these cases. In particular, we are going to increase n_init from the default 10 to 15.\n",
    "\n",
    "At the end of the day, we would like to be able to infer things in relation to the dataset features, not PCA. So, we need a function that does this:"
   ]
  },
  {
   "cell_type": "code",
   "execution_count": null,
   "metadata": {
    "scrolled": true
   },
   "outputs": [],
   "source": [
    "feature_to_pca = sample[3].components_\n",
    "feature_to_pca.shape"
   ]
  },
  {
   "cell_type": "code",
   "execution_count": null,
   "metadata": {},
   "outputs": [],
   "source": [
    "def pca_coef_to_feature(L, feature_to_pca):\n",
    "    \"\"\"Takes a list of arrays in PC basis and the PC coordinates in feature basis.\n",
    "    Returns the list of arrays in feature basis.\"\"\"\n",
    "    \n",
    "    back_to_feature = []\n",
    "    \n",
    "    for a in L:\n",
    "        back_to_feature_a = []\n",
    "        for j in range(feature_to_pca.shape[1]):\n",
    "            coef_j = 0\n",
    "            for i in range(a.shape[0]):\n",
    "                coef_j += a[i] * feature_to_pca[i, j]\n",
    "            back_to_feature_a.append(coef_j)\n",
    "        back_to_feature.append(back_to_feature_a)\n",
    "    return np.array(back_to_feature)"
   ]
  },
  {
   "cell_type": "code",
   "execution_count": null,
   "metadata": {},
   "outputs": [],
   "source": [
    "kmeans_ch_chosen, kmeans_db_chosen, kmeans_s_chosen = [], [], []\n",
    "kmeans_info = pd.DataFrame(index=DE.index)\n",
    "centroid = pd.DataFrame(columns=DE.columns)\n",
    "\n",
    "for k in kmeans_chosen:\n",
    "    kmeans = KMeans(n_clusters=k, n_init=15)\n",
    "    y_pred = kmeans.fit_predict(X)\n",
    "    \n",
    "    kmeans_info['cluster_kmeans_%d' %k] = pd.Series(y_pred)\n",
    "    \n",
    "    centroid_k = pd.DataFrame(pca_coef_to_feature(kmeans.cluster_centers_, feature_to_pca),\n",
    "                              index={'%d th centroid_kmenas_%d' %(i, k)  for i in range(k)},\n",
    "                             columns=DE.columns)\n",
    "    centroid = centroid.append(centroid_k)\n",
    "\n",
    "    kmeans_db_chosen.append((k, davies_bouldin_score(X, y_pred)))\n",
    "    kmeans_ch_chosen.append((k, metrics.calinski_harabasz_score(X, y_pred)))\n",
    "    kmeans_s_chosen.append((k, silhouette_score(X, y_pred, sample_size=sample_size)))\n",
    "\n",
    "    distance = []\n",
    "    for i in range(y_pred.shape[0]):\n",
    "        d_i = np.sum(np.square(X[i] - kmeans.cluster_centers_[y_pred[i]]))\n",
    "        distance.append(d_i)\n",
    "\n",
    "    kmeans_info['distance_to_centroid_kmeans_%d' %k] = pd.Series(np.array(distance))\n",
    "kmeans_info.to_csv('best_kmeans_info.csv')\n",
    "centroid.to_csv('best_kmeans_centroid.csv')"
   ]
  },
  {
   "cell_type": "code",
   "execution_count": null,
   "metadata": {},
   "outputs": [],
   "source": [
    "plt.plot([x[0] for x in kmeans_ch_score], [x[1] for x in kmeans_ch_score] , marker = 'o', label='KMeans(n_init=10)')\n",
    "plt.plot([x[0] for x in kmeans_ch_chosen], [x[1] for x in kmeans_ch_chosen] , marker = 'o', label='KMeans(n_init=15)')\n",
    "plt.xlabel('Number of clusters')\n",
    "plt.ylabel('Calinski-Harabasz score')\n",
    "plt.title('KMeans on all data')\n",
    "plt.grid()\n",
    "plt.legend()\n",
    "plt.savefig('CH-score-KMeans_2.png')\n",
    "plt.show()"
   ]
  },
  {
   "cell_type": "code",
   "execution_count": null,
   "metadata": {},
   "outputs": [],
   "source": [
    "plt.plot([x[0] for x in kmeans_db_score], [x[1] for x in kmeans_db_score] , marker = 'o', label='KMeans(n_init=10)')\n",
    "plt.plot([x[0] for x in kmeans_db_chosen], [x[1] for x in kmeans_db_chosen] , marker = 'o', label='KMeans(n_init=15)')\n",
    "plt.xlabel('Number of clusters')\n",
    "plt.ylabel('Davies-Bouldin index')\n",
    "plt.title('KMeans on all data')\n",
    "plt.grid()\n",
    "plt.legend()\n",
    "plt.savefig('DB-index-KMeans_2.png')\n",
    "plt.show()"
   ]
  },
  {
   "cell_type": "code",
   "execution_count": null,
   "metadata": {},
   "outputs": [],
   "source": [
    "plt.plot([x[0] for x in kmeans_s_score], [x[1] for x in kmeans_s_score] , marker = 'o', label='KMeans(n_init=10)')\n",
    "plt.plot([x[0] for x in kmeans_s_chosen], [x[1] for x in kmeans_s_chosen] , marker = 'o', label='KMeans(n_init=15)')\n",
    "plt.xlabel('Number of clusters')\n",
    "plt.ylabel('Silhouette score')\n",
    "plt.title('KMeans(computed on 10% of data)')\n",
    "plt.grid()\n",
    "plt.savefig('silh-index-KMeans_2.png', dpi=150)\n",
    "plt.show()"
   ]
  },
  {
   "cell_type": "code",
   "execution_count": null,
   "metadata": {},
   "outputs": [],
   "source": []
  },
  {
   "cell_type": "markdown",
   "metadata": {},
   "source": [
    "# Using Bayesian Gaussian Mixture Models for finding appropriate k"
   ]
  },
  {
   "cell_type": "code",
   "execution_count": 13,
   "metadata": {},
   "outputs": [],
   "source": [
    "from sklearn.mixture import BayesianGaussianMixture"
   ]
  },
  {
   "cell_type": "code",
   "execution_count": 15,
   "metadata": {},
   "outputs": [
    {
     "name": "stdout",
     "output_type": "stream",
     "text": [
      "[1.]\n",
      "[0.89 0.11]\n",
      "[0.89 0.02 0.09]\n",
      "[0.17 0.02 0.73 0.08]\n",
      "[0.01 0.08 0.16 0.7  0.05]\n",
      "[0.01 0.8  0.06 0.01 0.12 0.  ]\n",
      "[0.73 0.06 0.05 0.03 0.06 0.05 0.02]\n",
      "[0.03 0.07 0.65 0.   0.04 0.   0.02 0.2 ]\n",
      "[0.04 0.06 0.   0.   0.05 0.66 0.01 0.03 0.14]\n",
      "[0.1  0.02 0.05 0.06 0.   0.5  0.   0.   0.26 0.  ]\n"
     ]
    }
   ],
   "source": [
    "for k in range(1, 11):\n",
    "    bgm = BayesianGaussianMixture(n_components=k)\n",
    "    bgm.fit(X_r)\n",
    "    print(np.round(bgm.weights_, 2))"
   ]
  },
  {
   "cell_type": "markdown",
   "metadata": {},
   "source": [
    "I observe that for $k>7$ I always get a component of weight < 0.02, so I'm going with $k=7$ or $k=8$."
   ]
  },
  {
   "cell_type": "code",
   "execution_count": null,
   "metadata": {},
   "outputs": [],
   "source": [
    "from sklearn.metrics import pairwise_distances"
   ]
  },
  {
   "cell_type": "code",
   "execution_count": null,
   "metadata": {},
   "outputs": [],
   "source": [
    "bgm_8= BayesianGaussianMixture(n_components=8, n_init=10)\n",
    "bgm_8.fit(X)\n",
    "print(np.round(bgm_8.weights_, 2))\n",
    "\n",
    "y_pred_8 = bgm_8.predict(X)\n",
    "\n",
    "print('Davies-Bouldin score for BGM with 8 comonent is', davies_bouldin_score(X, y_pred_8))"
   ]
  },
  {
   "cell_type": "markdown",
   "metadata": {},
   "source": [
    "It is way worse than the Davies-Bouldin score for KMeans."
   ]
  },
  {
   "cell_type": "code",
   "execution_count": null,
   "metadata": {},
   "outputs": [],
   "source": [
    "bgm_7 = BayesianGaussianMixture(n_components=7, n_init=10)\n",
    "bgm_7.fit(X)\n",
    "print(np.round(bgm_7.weights_, 2))\n",
    "\n",
    "y_pred_7 = bgm_7.predict(X)\n",
    "print('Davies-Bouldin score for BGM with 8 comonent is', davies_bouldin_score(X, y_pred_7))"
   ]
  },
  {
   "cell_type": "markdown",
   "metadata": {},
   "source": [
    "This one is also much worse than Davies-Bouldin score for KMeans, so this is not a good model for this problem."
   ]
  },
  {
   "cell_type": "markdown",
   "metadata": {},
   "source": [
    "# DBSCAN"
   ]
  },
  {
   "cell_type": "markdown",
   "metadata": {},
   "source": [
    "I think min_samples= 5 is reasonable. Let's see what is the distance to fourth closest neighbor for each instance:"
   ]
  },
  {
   "cell_type": "code",
   "execution_count": 19,
   "metadata": {},
   "outputs": [],
   "source": [
    "nbrs = NearestNeighbors(n_neighbors=5).fit(X_r)\n",
    "distances, indices = nbrs.kneighbors(X_r)"
   ]
  },
  {
   "cell_type": "code",
   "execution_count": 34,
   "metadata": {
    "scrolled": true
   },
   "outputs": [
    {
     "data": {
      "image/png": "[encoded data removed]",
      "text/plain": [
       "<Figure size 432x288 with 1 Axes>"
      ]
     },
     "metadata": {
      "needs_background": "light"
     },
     "output_type": "display_data"
    }
   ],
   "source": [
    "distance_4 = np.sort(distances[:,-1])\n",
    "index = np.arange(len(distance_4))\n",
    "plt.plot(index,distance_4)\n",
    "plt.axis([0, X_r.shape[0] + 100, min(distance_4) - 1, max(distance_4) + 10])\n",
    "plt.ylabel('KNN distance for k = 5 neighbors')\n",
    "plt.xlabel('index')\n",
    "plt.show()"
   ]
  },
  {
   "cell_type": "markdown",
   "metadata": {},
   "source": [
    "Let's explore what happens if we pick an eps so that p-percentile of instances are cores."
   ]
  },
  {
   "cell_type": "code",
   "execution_count": 59,
   "metadata": {},
   "outputs": [
    {
     "name": "stdout",
     "output_type": "stream",
     "text": [
      "With 5.0 percent being core, we get eps =  2.019994430814881\n",
      "Number of clusters: 57\n",
      "Number of noise points: 9768\n",
      "Silhouette Coefficient: -0.379\n",
      "*************************************************\n",
      "With 10.0 percent being core, we get eps =  2.1718211364488007\n",
      "Number of clusters: 69\n",
      "Number of noise points: 8842\n",
      "Silhouette Coefficient: -0.357\n",
      "*************************************************\n",
      "With 15.0 percent being core, we get eps =  2.283570917007136\n",
      "Number of clusters: 66\n",
      "Number of noise points: 8079\n",
      "Silhouette Coefficient: -0.331\n",
      "*************************************************\n",
      "With 20.0 percent being core, we get eps =  2.387914712996178\n",
      "Number of clusters: 66\n",
      "Number of noise points: 7380\n",
      "Silhouette Coefficient: -0.326\n",
      "*************************************************\n",
      "With 25.0 percent being core, we get eps =  2.4862510584119795\n",
      "Number of clusters: 62\n",
      "Number of noise points: 6792\n",
      "Silhouette Coefficient: -0.309\n",
      "*************************************************\n",
      "With 30.0 percent being core, we get eps =  2.5845630429613253\n",
      "Number of clusters: 55\n",
      "Number of noise points: 6235\n",
      "Silhouette Coefficient: -0.308\n",
      "*************************************************\n",
      "With 35.0 percent being core, we get eps =  2.689510968687167\n",
      "Number of clusters: 60\n",
      "Number of noise points: 5642\n",
      "Silhouette Coefficient: -0.273\n",
      "*************************************************\n",
      "With 40.0 percent being core, we get eps =  2.7908795218222315\n",
      "Number of clusters: 61\n",
      "Number of noise points: 5050\n",
      "Silhouette Coefficient: -0.234\n",
      "*************************************************\n",
      "With 45.0 percent being core, we get eps =  2.8967587997398545\n",
      "Number of clusters: 45\n",
      "Number of noise points: 4511\n",
      "Silhouette Coefficient: -0.193\n",
      "*************************************************\n",
      "With 50.0 percent being core, we get eps =  2.998284424237956\n",
      "Number of clusters: 43\n",
      "Number of noise points: 3946\n",
      "Silhouette Coefficient: -0.160\n",
      "*************************************************\n",
      "With 55.0 percent being core, we get eps =  3.105292735417811\n",
      "Number of clusters: 49\n",
      "Number of noise points: 3467\n",
      "Silhouette Coefficient: -0.142\n",
      "*************************************************\n",
      "With 60.0 percent being core, we get eps =  3.215780174520905\n",
      "Number of clusters: 35\n",
      "Number of noise points: 3049\n",
      "Silhouette Coefficient: -0.115\n",
      "*************************************************\n",
      "With 65.0 percent being core, we get eps =  3.3473101984766505\n",
      "Number of clusters: 29\n",
      "Number of noise points: 2602\n",
      "Silhouette Coefficient: -0.070\n",
      "*************************************************\n",
      "With 70.0 percent being core, we get eps =  3.505355650520416\n",
      "Number of clusters: 24\n",
      "Number of noise points: 2214\n",
      "Silhouette Coefficient: -0.029\n",
      "*************************************************\n",
      "With 75.0 percent being core, we get eps =  3.6978686446914155\n",
      "Number of clusters: 28\n",
      "Number of noise points: 1829\n",
      "Silhouette Coefficient: -0.021\n",
      "*************************************************\n",
      "With 80.0 percent being core, we get eps =  3.925074745152616\n",
      "Number of clusters: 20\n",
      "Number of noise points: 1475\n",
      "Silhouette Coefficient: -0.013\n",
      "*************************************************\n",
      "With 85.0 percent being core, we get eps =  4.23786460871543\n",
      "Number of clusters: 21\n",
      "Number of noise points: 1068\n",
      "Silhouette Coefficient: 0.064\n",
      "*************************************************\n",
      "With 90.0 percent being core, we get eps =  4.65233684020037\n",
      "Number of clusters: 20\n",
      "Number of noise points: 684\n",
      "Silhouette Coefficient: 0.126\n",
      "*************************************************\n",
      "With 95.0 percent being core, we get eps =  5.505850056714042\n",
      "Number of clusters: 10\n",
      "Number of noise points: 350\n",
      "Silhouette Coefficient: 0.135\n",
      "*************************************************\n"
     ]
    }
   ],
   "source": [
    "score = []\n",
    "for p in np.linspace(5, 95, 19):\n",
    "    eps = np.percentile(distance_4, p)\n",
    "    print (\"With\", p, \"percent being core, we get eps = \", eps)\n",
    "    # Compute DBSCAN\n",
    "    db = DBSCAN(eps=eps, min_samples=5).fit(X_r)\n",
    "    labels = db.labels_\n",
    "\n",
    "    # Number of clusters in labels, ignoring noise if present.\n",
    "    n_clusters_ = len(set(labels)) - (1 if -1 in labels else 0)\n",
    "    n_noise_ = list(labels).count(-1)\n",
    "    score_p = metrics.silhouette_score(X_r, labels)\n",
    "    score.append((eps, score_p))\n",
    "    \n",
    "    print('Number of clusters: %d' % n_clusters_)\n",
    "    print('Number of noise points: %d' % n_noise_)\n",
    "    print(\"Silhouette Coefficient: %0.3f\" % score_p)    \n",
    "    print(\"*************************************************\")"
   ]
  },
  {
   "cell_type": "markdown",
   "metadata": {},
   "source": [
    "None of these gave an acceptable silhouette score. Let's push higher:"
   ]
  },
  {
   "cell_type": "code",
   "execution_count": 70,
   "metadata": {},
   "outputs": [
    {
     "name": "stdout",
     "output_type": "stream",
     "text": [
      "With 96.0 percent being core, we get eps =  5.813798102238144\n",
      "Number of clusters: 10\n",
      "Number of noise points: 260\n",
      "Silhouette Coefficient: 0.248\n",
      "Here is the percent of samples in each cluster:\n",
      "93.27\n",
      "0.08\n",
      "0.87\n",
      "1.23\n",
      "0.66\n",
      "1.03\n",
      "0.32\n",
      "0.05\n",
      "0.1\n",
      "0.03\n",
      "*************************************************\n",
      "With 97.0 percent being core, we get eps =  6.227200828717898\n",
      "Number of clusters: 10\n",
      "Number of noise points: 193\n",
      "Silhouette Coefficient: 0.286\n",
      "Here is the percent of samples in each cluster:\n",
      "94.67\n",
      "0.9\n",
      "1.32\n",
      "0.69\n",
      "0.35\n",
      "0.05\n",
      "0.11\n",
      "0.06\n",
      "0.05\n",
      "0.05\n",
      "*************************************************\n",
      "With 98.0 percent being core, we get eps =  6.712775707422658\n",
      "Number of clusters: 9\n",
      "Number of noise points: 138\n",
      "Silhouette Coefficient: 0.294\n",
      "Here is the percent of samples in each cluster:\n",
      "94.93\n",
      "0.93\n",
      "1.4\n",
      "0.81\n",
      "0.42\n",
      "0.11\n",
      "0.07\n",
      "0.05\n",
      "0.05\n",
      "*************************************************\n",
      "With 99.0 percent being core, we get eps =  7.81531380669329\n",
      "Number of clusters: 7\n",
      "Number of noise points: 49\n",
      "Silhouette Coefficient: 0.365\n",
      "Here is the percent of samples in each cluster:\n",
      "97.82\n",
      "0.98\n",
      "0.45\n",
      "0.06\n",
      "0.13\n",
      "0.05\n",
      "0.05\n",
      "*************************************************\n"
     ]
    }
   ],
   "source": [
    "for p in np.linspace(96, 99, 4):\n",
    "    eps = np.percentile(distance_4, p)\n",
    "    print (\"With\", p, \"percent being core, we get eps = \", eps)\n",
    "    # Compute DBSCAN\n",
    "    db = DBSCAN(eps=eps, min_samples=5).fit(X_r)\n",
    "    labels = db.labels_\n",
    "\n",
    "    # Number of clusters in labels, ignoring noise if present.\n",
    "    n_clusters_ = len(set(labels)) - (1 if -1 in labels else 0)\n",
    "    n_noise_ = list(labels).count(-1)\n",
    "    score_p = metrics.silhouette_score(X_r, labels)\n",
    "    score.append((eps, score_p))\n",
    "    \n",
    "\n",
    "    print('Number of clusters: %d' % n_clusters_)\n",
    "    print('Number of noise points: %d' % n_noise_)\n",
    "    print(\"Silhouette Coefficient: %0.3f\" % score_p)\n",
    "    if score_p > 0.2:\n",
    "        n = labels.shape[0]\n",
    "        print (\"Here is the percent of samples in each cluster:\")\n",
    "        for k in range(n_clusters_):\n",
    "            cluster_k = [j for j in range(n) if labels[j] == k]\n",
    "            print (np.around(len(cluster_k)* 100 /n, decimals =2))\n",
    "    print(\"*************************************************\")"
   ]
  },
  {
   "cell_type": "markdown",
   "metadata": {},
   "source": [
    "So, we only get higher score when the big majority of data gets sucked into one cluster :("
   ]
  },
  {
   "cell_type": "code",
   "execution_count": 71,
   "metadata": {},
   "outputs": [
    {
     "data": {
      "image/png": "[encoded data removed]",
      "text/plain": [
       "<Figure size 432x288 with 1 Axes>"
      ]
     },
     "metadata": {
      "needs_background": "light"
     },
     "output_type": "display_data"
    }
   ],
   "source": [
    "index = [x[0] for x in score]\n",
    "score_p = [x[1] for x in score]\n",
    "plt.plot(index, score_p)\n",
    "plt.xlabel('eps for DBSCAN')\n",
    "plt.ylabel('Silhouette score')\n",
    "plt.show()"
   ]
  },
  {
   "cell_type": "markdown",
   "metadata": {},
   "source": [
    "Morale: It seems like either min_samples must be increased, or simply let go of DBSCAN!"
   ]
  },
  {
   "cell_type": "markdown",
   "metadata": {},
   "source": [
    "# OPTICS"
   ]
  },
  {
   "cell_type": "code",
   "execution_count": 16,
   "metadata": {},
   "outputs": [
    {
     "name": "stdout",
     "output_type": "stream",
     "text": [
      "For min_samples = 5 OPTICS gives 97 clusters, and the silhouette score is -0.42\n",
      "For min_samples = 10 OPTICS gives 10 clusters, and the silhouette score is -0.08\n",
      "For min_samples = 11 OPTICS gives 10 clusters, and the silhouette score is 0.08\n",
      "For min_samples = 12 OPTICS gives 7 clusters, and the silhouette score is 0.4\n",
      "The percent of cluster -1 is 98.87\n",
      "The percent of cluster 0 is 0.11\n",
      "The percent of cluster 1 is 0.43\n",
      "The percent of cluster 2 is 0.11\n",
      "The percent of cluster 3 is 0.17\n",
      "The percent of cluster 4 is 0.18\n",
      "The percent of cluster 5 is 0.14\n",
      "For min_samples = 13 OPTICS gives 6 clusters, and the silhouette score is 0.08\n",
      "For min_samples = 14 OPTICS gives 7 clusters, and the silhouette score is -0.09\n",
      "For min_samples = 15 OPTICS gives 6 clusters, and the silhouette score is -0.06\n"
     ]
    }
   ],
   "source": [
    "score = []\n",
    "for k in [5, 10, 11, 12, 13, 14, 15]:\n",
    "    opt = OPTICS(min_samples=k)\n",
    "    y_pred = opt.fit_predict(X_r)\n",
    "    s = silhouette_score(X_r, y_pred)\n",
    "    score.append(s)\n",
    "    print (\"For min_samples =\", k, \"OPTICS gives\", len(np.unique(y_pred)), \"clusters, and the silhouette score is\", np.round(s, 2))\n",
    "    if s > 0.2:\n",
    "        for x in np.unique(y_pred):\n",
    "            print(\"The percent of cluster\", x, 'is', np.round(100*len(y_pred[y_pred == x])/len(X_r), 2))"
   ]
  },
  {
   "cell_type": "markdown",
   "metadata": {},
   "source": [
    "Again, the same story :( This is the same story that happened with DBSCAN."
   ]
  },
  {
   "cell_type": "code",
   "execution_count": null,
   "metadata": {},
   "outputs": [],
   "source": []
  }
 ],
 "metadata": {
  "kernelspec": {
   "display_name": "Python 3",
   "language": "python",
   "name": "python3"
  },
  "language_info": {
   "codemirror_mode": {
    "name": "ipython",
    "version": 3
   },
   "file_extension": ".py",
   "mimetype": "text/x-python",
   "name": "python",
   "nbconvert_exporter": "python",
   "pygments_lexer": "ipython3",
   "version": "3.7.6"
  }
 },
 "nbformat": 4,
 "nbformat_minor": 2
}
