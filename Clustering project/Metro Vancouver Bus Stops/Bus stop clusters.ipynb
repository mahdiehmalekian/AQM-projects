{
 "cells": [
  {
   "cell_type": "markdown",
   "metadata": {},
   "source": [
    "# 0 Import Libraries"
   ]
  },
  {
   "cell_type": "code",
   "execution_count": 1,
   "metadata": {},
   "outputs": [],
   "source": [
    "#Import Libraries\n",
    "import numpy as np\n",
    "import pandas as pd\n",
    "from sklearn.cluster import KMeans\n",
    "from sklearn.cluster import DBSCAN\n",
    "\n",
    "from sklearn.metrics import silhouette_samples, silhouette_score\n",
    "\n",
    "from sklearn.preprocessing import StandardScaler\n",
    "from sklearn import decomposition\n",
    "from sklearn import preprocessing\n",
    "\n",
    "import matplotlib.pyplot as plt\n",
    "import matplotlib.cm as cm"
   ]
  },
  {
   "cell_type": "markdown",
   "metadata": {},
   "source": [
    "# 1 Data Preprocessing"
   ]
  },
  {
   "cell_type": "markdown",
   "metadata": {},
   "source": [
    "## 1.1 Import the data and dump unnecessary columns"
   ]
  },
  {
   "cell_type": "code",
   "execution_count": 4,
   "metadata": {},
   "outputs": [],
   "source": [
    "#Import dataset\n",
    "BusStop = pd.read_csv('TransitPoint.csv')\n",
    "BusStop.dropna(inplace=True)"
   ]
  },
  {
   "cell_type": "code",
   "execution_count": 5,
   "metadata": {},
   "outputs": [
    {
     "data": {
      "text/html": [
       "<div>\n",
       "<style scoped>\n",
       "    .dataframe tbody tr th:only-of-type {\n",
       "        vertical-align: middle;\n",
       "    }\n",
       "\n",
       "    .dataframe tbody tr th {\n",
       "        vertical-align: top;\n",
       "    }\n",
       "\n",
       "    .dataframe thead th {\n",
       "        text-align: right;\n",
       "    }\n",
       "</style>\n",
       "<table border=\"1\" class=\"dataframe\">\n",
       "  <thead>\n",
       "    <tr style=\"text-align: right;\">\n",
       "      <th></th>\n",
       "      <th>lat</th>\n",
       "      <th>long</th>\n",
       "    </tr>\n",
       "  </thead>\n",
       "  <tbody>\n",
       "    <tr>\n",
       "      <th>0</th>\n",
       "      <td>49.22727</td>\n",
       "      <td>-123.00697</td>\n",
       "    </tr>\n",
       "    <tr>\n",
       "      <th>1</th>\n",
       "      <td>49.21508</td>\n",
       "      <td>-123.06610</td>\n",
       "    </tr>\n",
       "    <tr>\n",
       "      <th>2</th>\n",
       "      <td>49.21802</td>\n",
       "      <td>-122.66670</td>\n",
       "    </tr>\n",
       "    <tr>\n",
       "      <th>3</th>\n",
       "      <td>49.33613</td>\n",
       "      <td>-123.14594</td>\n",
       "    </tr>\n",
       "    <tr>\n",
       "      <th>4</th>\n",
       "      <td>49.28246</td>\n",
       "      <td>-123.11828</td>\n",
       "    </tr>\n",
       "  </tbody>\n",
       "</table>\n",
       "</div>"
      ],
      "text/plain": [
       "        lat       long\n",
       "0  49.22727 -123.00697\n",
       "1  49.21508 -123.06610\n",
       "2  49.21802 -122.66670\n",
       "3  49.33613 -123.14594\n",
       "4  49.28246 -123.11828"
      ]
     },
     "execution_count": 5,
     "metadata": {},
     "output_type": "execute_result"
    }
   ],
   "source": [
    "BusStop = BusStop[['stop_latitude', 'stop_longitude']]\n",
    "BusStop = BusStop.rename(columns={'stop_latitude':'lat', 'stop_longitude':'long'})\n",
    "BusStop.head()"
   ]
  },
  {
   "cell_type": "markdown",
   "metadata": {},
   "source": [
    "## 1.2 Standardize the data"
   ]
  },
  {
   "cell_type": "code",
   "execution_count": 6,
   "metadata": {},
   "outputs": [],
   "source": [
    "df = pd.DataFrame(preprocessing.scale(BusStop))\n",
    "df.rename(columns = {i: BusStop.columns[i] for i in range(df.shape[1])}, inplace=True)"
   ]
  },
  {
   "cell_type": "code",
   "execution_count": 7,
   "metadata": {},
   "outputs": [
    {
     "data": {
      "text/html": [
       "<div>\n",
       "<style scoped>\n",
       "    .dataframe tbody tr th:only-of-type {\n",
       "        vertical-align: middle;\n",
       "    }\n",
       "\n",
       "    .dataframe tbody tr th {\n",
       "        vertical-align: top;\n",
       "    }\n",
       "\n",
       "    .dataframe thead th {\n",
       "        text-align: right;\n",
       "    }\n",
       "</style>\n",
       "<table border=\"1\" class=\"dataframe\">\n",
       "  <thead>\n",
       "    <tr style=\"text-align: right;\">\n",
       "      <th></th>\n",
       "      <th>lat</th>\n",
       "      <th>long</th>\n",
       "    </tr>\n",
       "  </thead>\n",
       "  <tbody>\n",
       "    <tr>\n",
       "      <th>0</th>\n",
       "      <td>0.185760</td>\n",
       "      <td>-0.349337</td>\n",
       "    </tr>\n",
       "    <tr>\n",
       "      <th>1</th>\n",
       "      <td>0.032667</td>\n",
       "      <td>-0.686516</td>\n",
       "    </tr>\n",
       "    <tr>\n",
       "      <th>2</th>\n",
       "      <td>0.069590</td>\n",
       "      <td>1.590998</td>\n",
       "    </tr>\n",
       "    <tr>\n",
       "      <th>3</th>\n",
       "      <td>1.552917</td>\n",
       "      <td>-1.141791</td>\n",
       "    </tr>\n",
       "    <tr>\n",
       "      <th>4</th>\n",
       "      <td>0.878883</td>\n",
       "      <td>-0.984064</td>\n",
       "    </tr>\n",
       "    <tr>\n",
       "      <th>...</th>\n",
       "      <td>...</td>\n",
       "      <td>...</td>\n",
       "    </tr>\n",
       "    <tr>\n",
       "      <th>53951</th>\n",
       "      <td>0.712227</td>\n",
       "      <td>-1.783988</td>\n",
       "    </tr>\n",
       "    <tr>\n",
       "      <th>53952</th>\n",
       "      <td>1.580672</td>\n",
       "      <td>-1.346904</td>\n",
       "    </tr>\n",
       "    <tr>\n",
       "      <th>53953</th>\n",
       "      <td>-0.439671</td>\n",
       "      <td>1.604798</td>\n",
       "    </tr>\n",
       "    <tr>\n",
       "      <th>53954</th>\n",
       "      <td>1.010500</td>\n",
       "      <td>0.912477</td>\n",
       "    </tr>\n",
       "    <tr>\n",
       "      <th>53955</th>\n",
       "      <td>1.515994</td>\n",
       "      <td>-1.142019</td>\n",
       "    </tr>\n",
       "  </tbody>\n",
       "</table>\n",
       "<p>53956 rows × 2 columns</p>\n",
       "</div>"
      ],
      "text/plain": [
       "            lat      long\n",
       "0      0.185760 -0.349337\n",
       "1      0.032667 -0.686516\n",
       "2      0.069590  1.590998\n",
       "3      1.552917 -1.141791\n",
       "4      0.878883 -0.984064\n",
       "...         ...       ...\n",
       "53951  0.712227 -1.783988\n",
       "53952  1.580672 -1.346904\n",
       "53953 -0.439671  1.604798\n",
       "53954  1.010500  0.912477\n",
       "53955  1.515994 -1.142019\n",
       "\n",
       "[53956 rows x 2 columns]"
      ]
     },
     "execution_count": 7,
     "metadata": {},
     "output_type": "execute_result"
    }
   ],
   "source": [
    "df"
   ]
  },
  {
   "cell_type": "markdown",
   "metadata": {},
   "source": [
    "# 2 Data Analysis"
   ]
  },
  {
   "cell_type": "markdown",
   "metadata": {},
   "source": [
    "## 2.1 K-means"
   ]
  },
  {
   "cell_type": "markdown",
   "metadata": {},
   "source": [
    "I expect DBSCAN to do better than K-means, because I do not expect the clusters to be convex. However, let's give K-means a try. We'll choose the number of clusters using silhouette score:"
   ]
  },
  {
   "cell_type": "code",
   "execution_count": 29,
   "metadata": {},
   "outputs": [],
   "source": [
    "s_score = []\n",
    "inertia_m = []\n",
    "for k in range(2, 30):\n",
    "    kmeans = KMeans(n_clusters=k)\n",
    "    y_pred = kmeans.fit_predict(df)\n",
    "    inertia_m.append(kmeans.score(df))\n",
    "    s = silhouette_score(df, y_pred)\n",
    "    s_score.append(s)"
   ]
  },
  {
   "cell_type": "code",
   "execution_count": 30,
   "metadata": {},
   "outputs": [
    {
     "data": {
      "image/png": "[encoded data removed]",
      "text/plain": [
       "<Figure size 432x288 with 1 Axes>"
      ]
     },
     "metadata": {
      "needs_background": "light"
     },
     "output_type": "display_data"
    }
   ],
   "source": [
    "inertia = [-m for m in inertia_m]\n",
    "plt.plot(np.arange(2, 30), inertia, marker ='o')\n",
    "#plt.plot(np.linspace(2, 44, 22), inertia[0::2], marker = 'o')\n",
    "plt.xlabel('Number of clusters')\n",
    "plt.ylabel('Inertia')\n",
    "plt.title('KMeans(n_init=10)')\n",
    "plt.grid()\n",
    "plt.show()"
   ]
  },
  {
   "cell_type": "code",
   "execution_count": 33,
   "metadata": {},
   "outputs": [
    {
     "data": {
      "image/png": "[encoded data removed]",
      "text/plain": [
       "<Figure size 432x288 with 1 Axes>"
      ]
     },
     "metadata": {
      "needs_background": "light"
     },
     "output_type": "display_data"
    }
   ],
   "source": [
    "plt.plot(np.arange(2, 30), s_score, marker='o')\n",
    "#plt.plot(np.arange(2, 26), s_score[0:24], marker = 'o')\n",
    "#plt.plot(np.linspace(26, 44, 10), s_score[24::2], marker = 'o')\n",
    "plt.xlabel('Number of clusters')\n",
    "plt.ylabel('Silhouette score')\n",
    "plt.title('KMeans(n_init=10)')\n",
    "plt.grid()\n",
    "plt.show()"
   ]
  },
  {
   "cell_type": "markdown",
   "metadata": {},
   "source": [
    "$k =$ 10 or 11 have the best scores. Let's look at each of these more closely, and see the clusters each give."
   ]
  },
  {
   "cell_type": "markdown",
   "metadata": {},
   "source": [
    "### 2.1.1 $k =10$"
   ]
  },
  {
   "cell_type": "code",
   "execution_count": 104,
   "metadata": {},
   "outputs": [
    {
     "data": {
      "image/png": "[encoded data removed]",
      "text/plain": [
       "<Figure size 720x518.4 with 1 Axes>"
      ]
     },
     "metadata": {
      "needs_background": "light"
     },
     "output_type": "display_data"
    }
   ],
   "source": [
    "k = 10\n",
    "kmeans_10 = KMeans(n_clusters=k)\n",
    "y_pred_10 = kmeans_10.fit_predict(df)\n",
    "\n",
    "labels = np.unique(y_pred_10)\n",
    "n_clusters = len(labels)\n",
    "\n",
    "clusters_10 = [[] for i in range(k)]\n",
    "\n",
    "for j in range(y_pred_10.shape[0]):\n",
    "    clusters_10[y_pred_10[j]].append(j)\n",
    "        \n",
    "colors = cm.rainbow(np.linspace(0, 1, k))\n",
    "fig_dims = (10, 7.2)\n",
    "fig, ax = plt.subplots(figsize=fig_dims)\n",
    "for cluster_j, c in zip(clusters_10, colors):\n",
    "    plt.scatter(BusStop.iloc[cluster_j, 0], BusStop.iloc[cluster_j, 1], color=c, cmap='viridis')"
   ]
  },
  {
   "cell_type": "code",
   "execution_count": 92,
   "metadata": {},
   "outputs": [],
   "source": [
    "BusStop['cluster'] = pd.Series(y_pred_10)\n",
    "\n",
    "BusStop.to_csv(r'./cluster_10.csv')"
   ]
  },
  {
   "cell_type": "markdown",
   "metadata": {},
   "source": [
    "### 2.1.2 $k = 11$"
   ]
  },
  {
   "cell_type": "code",
   "execution_count": 9,
   "metadata": {},
   "outputs": [
    {
     "data": {
      "image/png": "[encoded data removed]",
      "text/plain": [
       "<Figure size 720x518.4 with 1 Axes>"
      ]
     },
     "metadata": {
      "needs_background": "light"
     },
     "output_type": "display_data"
    }
   ],
   "source": [
    "k = 11\n",
    "kmeans_11 = KMeans(n_clusters=k)\n",
    "y_pred_11 = kmeans_11.fit_predict(df)\n",
    "\n",
    "labels = np.unique(y_pred_11)\n",
    "n_clusters = len(labels)\n",
    "\n",
    "clusters_11 = [[] for i in range(k)]\n",
    "\n",
    "for j in range(y_pred_11.shape[0]):\n",
    "    clusters_11[y_pred_11[j]].append(j)\n",
    "        \n",
    "colors = cm.rainbow(np.linspace(0, 1, k))\n",
    "fig_dims = (10, 7.2)\n",
    "fig, ax = plt.subplots(figsize=fig_dims)\n",
    "for cluster_j, c in zip(clusters_11, colors):\n",
    "    plt.scatter(BusStop.iloc[cluster_j, 0], BusStop.iloc[cluster_j, 1], color=c, cmap='viridis')\n"
   ]
  },
  {
   "cell_type": "code",
   "execution_count": 103,
   "metadata": {
    "scrolled": true
   },
   "outputs": [],
   "source": [
    "BusStop['cluster'] = pd.Series(y_pred_11)\n",
    "\n",
    "BusStop.to_csv(r'./cluster_11.csv')"
   ]
  },
  {
   "cell_type": "markdown",
   "metadata": {},
   "source": [
    "In addition to $k=10$ having a btter silhouette coefficient, it is clear that it also lands itself better to Metro Vancouver map than $k = 11$! This is the number we pick."
   ]
  },
  {
   "cell_type": "markdown",
   "metadata": {},
   "source": [
    "## 2.2 DBSCAN"
   ]
  },
  {
   "cell_type": "markdown",
   "metadata": {},
   "source": [
    "I am so happy with the K-means result but I am also giving DBSCAN a try."
   ]
  },
  {
   "cell_type": "code",
   "execution_count": 10,
   "metadata": {},
   "outputs": [],
   "source": [
    "from sklearn.neighbors import NearestNeighbors\n",
    "from sklearn import metrics"
   ]
  },
  {
   "cell_type": "code",
   "execution_count": 12,
   "metadata": {},
   "outputs": [
    {
     "name": "stdout",
     "output_type": "stream",
     "text": [
      "Number of clusters: 24\n",
      "Number of noise points: 105\n",
      "Silhouette Coefficient: -0.179\n",
      "*************************************************\n",
      "Number of clusters: 6\n",
      "Number of noise points: 11\n",
      "Silhouette Coefficient: 0.116\n",
      "*************************************************\n",
      "Number of clusters: 3\n",
      "Number of noise points: 0\n",
      "Silhouette Coefficient: 0.300\n",
      "*************************************************\n",
      "Number of clusters: 2\n",
      "Number of noise points: 0\n",
      "Silhouette Coefficient: 0.499\n",
      "*************************************************\n",
      "Number of clusters: 2\n",
      "Number of noise points: 0\n",
      "Silhouette Coefficient: 0.499\n",
      "*************************************************\n"
     ]
    }
   ],
   "source": [
    "score = []\n",
    "for eps in np.linspace(0.1, 0.5, 5):\n",
    "    # Compute DBSCAN\n",
    "    db = DBSCAN(eps=eps, min_samples=10).fit(df)\n",
    "    labels = db.labels_\n",
    "\n",
    "    # Number of clusters in labels, ignoring noise if present.\n",
    "    n_clusters_ = len(set(labels)) - (1 if -1 in labels else 0)\n",
    "    n_noise_ = list(labels).count(-1)\n",
    "    score_p = metrics.silhouette_score(df, labels)\n",
    "    score.append((eps, score_p))\n",
    "\n",
    "    print('Number of clusters: %d' % n_clusters_)\n",
    "    print('Number of noise points: %d' % n_noise_)\n",
    "    print(\"Silhouette Coefficient: %0.3f\" % score_p)    \n",
    "    print(\"*************************************************\")"
   ]
  },
  {
   "cell_type": "code",
   "execution_count": 13,
   "metadata": {},
   "outputs": [
    {
     "name": "stdout",
     "output_type": "stream",
     "text": [
      "The size of cluster 0 is 53934\n",
      "The size of cluster 1 is 22\n"
     ]
    }
   ],
   "source": [
    "for i in np.unique(labels):\n",
    "    print(\"The size of cluster\", i, \"is\", len(labels[labels == i]))"
   ]
  },
  {
   "cell_type": "markdown",
   "metadata": {},
   "source": [
    "With reasonable silhouette score, we get one giant cluster and a tiny one. So, DBSCAN doesn't work very well on this."
   ]
  },
  {
   "cell_type": "code",
   "execution_count": null,
   "metadata": {},
   "outputs": [],
   "source": []
  }
 ],
 "metadata": {
  "kernelspec": {
   "display_name": "Python 3",
   "language": "python",
   "name": "python3"
  },
  "language_info": {
   "codemirror_mode": {
    "name": "ipython",
    "version": 3
   },
   "file_extension": ".py",
   "mimetype": "text/x-python",
   "name": "python",
   "nbconvert_exporter": "python",
   "pygments_lexer": "ipython3",
   "version": "3.7.6"
  }
 },
 "nbformat": 4,
 "nbformat_minor": 2
}
